{
 "cells": [
  {
   "cell_type": "markdown",
   "metadata": {
    "id": "kpjnQuZuKhxg"
   },
   "source": [
    "# Neuroblastoma"
   ]
  },
  {
   "cell_type": "markdown",
   "metadata": {
    "id": "aBP1H2nAQfaN"
   },
   "source": [
    "## Imports python"
   ]
  },
  {
   "cell_type": "code",
   "execution_count": 1,
   "metadata": {
    "id": "ZoUVKA9APZEZ"
   },
   "outputs": [
    {
     "name": "stderr",
     "output_type": "stream",
     "text": [
      "/home/pierre/.local/lib/python3.8/site-packages/tqdm/auto.py:22: TqdmWarning: IProgress not found. Please update jupyter and ipywidgets. See https://ipywidgets.readthedocs.io/en/stable/user_install.html\n",
      "  from .autonotebook import tqdm as notebook_tqdm\n"
     ]
    }
   ],
   "source": [
    "import torch\n",
    "import torchvision.transforms as transforms\n",
    "import torchvision.datasets as datasets\n",
    "import torch.optim as optim\n",
    "import torchmetrics.classification as classification\n",
    "import copy\n",
    "import matplotlib.pyplot as plt\n",
    "import numpy as np\n",
    "import json\n",
    "import os\n",
    "\n",
    "from torch import nn\n",
    "from torchvision import models"
   ]
  },
  {
   "cell_type": "markdown",
   "metadata": {
    "id": "onj806KVjvox"
   },
   "source": [
    "\n",
    "## Vérification GPU"
   ]
  },
  {
   "cell_type": "code",
   "execution_count": 2,
   "metadata": {
    "colab": {
     "base_uri": "https://localhost:8080/"
    },
    "id": "QZ3NVkxIjsXp",
    "outputId": "29f6272a-ff07-4226-b37e-5ecb9cf83e3c",
    "scrolled": true
   },
   "outputs": [
    {
     "name": "stdout",
     "output_type": "stream",
     "text": [
      "Using cpu device\n"
     ]
    }
   ],
   "source": [
    "device = \"cuda\" if torch.cuda.is_available() else \"cpu\"\n",
    "print(f\"Using {device} device\")"
   ]
  },
  {
   "cell_type": "markdown",
   "metadata": {
    "id": "k2hQ_2kYRcg9"
   },
   "source": [
    "## Chargement des datasets et preprocessing"
   ]
  },
  {
   "cell_type": "code",
   "execution_count": 3,
   "metadata": {
    "id": "T9b76e0sRieL"
   },
   "outputs": [],
   "source": [
    "root_dir  = \"../database/250/split_BA/\"\n",
    "train_dir = \"train/\"\n",
    "valid_dir = \"valid/\"\n",
    "test_dir  = \"test/\"\n",
    "\n",
    "train_transform = transforms.Compose([\n",
    "    transforms.ToTensor(),\n",
    "    transforms.Normalize((0.66747984797634830, 0.5799524696639141, 0.78054363559995920), (0.23162625605944703, 0.2340601507820534, 0.14160506754101998)),\n",
    "    transforms.RandomCrop((224, 224))]\n",
    ")\n",
    "eval_transform = transforms.Compose([\n",
    "    transforms.ToTensor(),\n",
    "    transforms.Normalize((0.66747984797634830, 0.5799524696639141, 0.78054363559995920), (0.23162625605944703, 0.2340601507820534, 0.14160506754101998)),\n",
    "    transforms.CenterCrop((224, 224))]\n",
    ")\n",
    "\n",
    "# Chargement des données\n",
    "train_dataset = datasets.ImageFolder(f\"{root_dir}/{train_dir}\", train_transform)\n",
    "valid_dataset = datasets.ImageFolder(f\"{root_dir}/{valid_dir}\", eval_transform)\n",
    "test_dataset  = datasets.ImageFolder(f\"{root_dir}/{test_dir}\",  eval_transform)"
   ]
  },
  {
   "cell_type": "markdown",
   "metadata": {
    "id": "QH6iEdB-cl1h"
   },
   "source": [
    "## Modèle"
   ]
  },
  {
   "cell_type": "code",
   "execution_count": 4,
   "metadata": {
    "colab": {
     "base_uri": "https://localhost:8080/"
    },
    "id": "6TG_LVwDcnlj",
    "outputId": "b587ce8d-19a1-41c9-e621-2bac39ea639b"
   },
   "outputs": [],
   "source": [
    "class ImprovedResNet(nn.Module):\n",
    "    def __init__(self, resnet_version=18):\n",
    "        super(ImprovedResNet, self).__init__()\n",
    "\n",
    "        if resnet_version == 18:\n",
    "            self.resnet = models.resnet18(weights=models.ResNet18_Weights.IMAGENET1K_V1)\n",
    "        elif resnet_version == 34:\n",
    "            self.resnet = models.resnet34(weights=models.ResNet34_Weights.IMAGENET1K_V1)\n",
    "        elif resnet_version == 50:\n",
    "            self.resnet = models.resnet50(weights=models.ResNet50_Weights.IMAGENET1K_V2)\n",
    "        elif resnet_version == 101:\n",
    "            self.resnet = models.resnet101(weights=models.ResNet101_Weights.IMAGENET1K_V2)\n",
    "        elif resnet_version == 152:\n",
    "            self.resnet = models.resnet152(weights=models.ResNet152_Weights.IMAGENET1K_V2)\n",
    "        else:\n",
    "            raise ValueError(f\"ResNet version {resnet_version} does not exist.\")\n",
    "\n",
    "        self.resnet.fc = nn.Sequential()\n",
    "        self.fc = nn.Sequential(\n",
    "            nn.Linear(in_features=512, out_features=256, bias=True),\n",
    "            nn.LeakyReLU(),\n",
    "            nn.Dropout(p=0.5),\n",
    "            nn.Linear(in_features=256, out_features=1, bias=True),\n",
    "            nn.Sigmoid()\n",
    "        )\n",
    "\n",
    "    def forward(self, x):\n",
    "        x = self.resnet(x)\n",
    "        x = self.fc(x)\n",
    "        return x\n",
    "\n",
    "    def fine_tune(self):\n",
    "        for param in self.parameters():\n",
    "            param.requires_grad = True\n",
    "\n",
    "        for param in self.resnet.parameters():\n",
    "            param.requires_grad = False\n",
    "\n",
    "        for param in self.fc.parameters():\n",
    "            param.requires_grad = True\n",
    "\n",
    "    def get_trainable_parameters(self):\n",
    "        return filter(lambda p: p.requires_grad, self.parameters())"
   ]
  },
  {
   "cell_type": "markdown",
   "metadata": {
    "id": "T_INuU9dn_pc"
   },
   "source": [
    "## Entraînement"
   ]
  },
  {
   "cell_type": "code",
   "execution_count": 5,
   "metadata": {
    "id": "dq_b2EbYm5DM"
   },
   "outputs": [],
   "source": [
    "batch_size = 32\n",
    "lr = 1e-6    # 4e-6 pour les Leak Experiences\n",
    "epochs = 100\n",
    "\n",
    "# model = LeakTestNet().to(device)\n",
    "# parameters = model.parameters()\n",
    "model = ImprovedResNet(resnet_version=18)\n",
    "model.to(device)\n",
    "model.fine_tune()\n",
    "\n",
    "# optimizer = optim.Adam(model.get_trainable_parameters(), lr, betas=(0.9, 0.999))\n",
    "optimizer = optim.SGD(model.get_trainable_parameters(), lr, momentum=0.9)\n",
    "criterion = nn.BCELoss()\n",
    "accuracy  = classification.BinaryAccuracy().to(device)\n",
    "\n",
    "train_loader = torch.utils.data.DataLoader(train_dataset, batch_size, shuffle=True)\n",
    "valid_loader = torch.utils.data.DataLoader(valid_dataset, batch_size, shuffle=False)\n",
    "test_loader  = torch.utils.data.DataLoader(test_dataset,  batch_size, shuffle=False)"
   ]
  },
  {
   "cell_type": "code",
   "execution_count": null,
   "metadata": {
    "colab": {
     "base_uri": "https://localhost:8080/"
    },
    "id": "ck2642AT19hG",
    "outputId": "08485706-3da3-4523-897e-ad36043acb5b"
   },
   "outputs": [
    {
     "name": "stdout",
     "output_type": "stream",
     "text": [
      "Epoch   0: Train=(0.696, 49.89%) | Valid=(0.705, 45.13%)\n",
      "Epoch   1: Train=(0.715, 46.75%) | Valid=(0.703, 46.85%)\n",
      "Epoch   2: Train=(0.710, 48.89%) | Valid=(0.703, 47.86%)\n",
      "Epoch   3: Train=(0.714, 47.86%) | Valid=(0.701, 48.87%)\n",
      "Epoch   4: Train=(0.715, 47.70%) | Valid=(0.699, 49.80%)\n"
     ]
    }
   ],
   "source": [
    "def train_model(model, loader, criterion, accuracy, epoch:int=0):\n",
    "    loss, accu = np.zeros((len(loader))), np.zeros((len(loader)))\n",
    "    accuracy.reset()\n",
    "    model.train()\n",
    "    for b, (inputs, labels) in enumerate(loader):\n",
    "        (inputs, labels) = (inputs.to(device), labels.to(device))\n",
    "        labels  = labels.unsqueeze(1).to(torch.float32)\n",
    "        outputs = model(inputs)\n",
    "        cr_loss = criterion(outputs, labels)\n",
    "\n",
    "        optimizer.zero_grad()\n",
    "        cr_loss.backward()\n",
    "        optimizer.step()\n",
    "\n",
    "        loss[b] = cr_loss.item()\n",
    "        accu[b] = accuracy(outputs, labels).item()\n",
    "    mean_loss = np.mean(loss)\n",
    "    mean_accu = np.mean(accu)\n",
    "    return mean_loss, loss, mean_accu, accu\n",
    "\n",
    "\n",
    "def eval_model(model, loader, criterion, accuracy, epoch:int=0):\n",
    "    loss, accu = np.zeros((len(loader))), np.zeros((len(loader)))\n",
    "    accuracy.reset()\n",
    "    model.eval()\n",
    "    with torch.no_grad():    \n",
    "        for b, (inputs, labels) in enumerate(loader):\n",
    "            (inputs, labels) = (inputs.to(device), labels.to(device))\n",
    "            labels  = labels.unsqueeze(1).to(torch.float32)\n",
    "            outputs = model(inputs)\n",
    "\n",
    "            cr_loss = criterion(outputs, labels)\n",
    "            loss[b] = cr_loss.item()\n",
    "            accu[b] = accuracy(outputs, labels).item()\n",
    "    mean_loss = np.mean(loss)\n",
    "    mean_accu = np.mean(accu)\n",
    "    return mean_loss, loss, mean_accu, accu\n",
    "\n",
    "def print_H_at_epoch(H, e:int=0):\n",
    "    print(f\"Epoch {e:3d}: Train=({H['train']['m_loss'][e]:.3f}, {H['train']['m_accu'][e]:.2%})\", end=\" | \")\n",
    "    print(              f\"Valid=({H['valid']['m_loss'][e]:.3f}, {H['valid']['m_accu'][e]:.2%})\")\n",
    "    \n",
    "# Historic\n",
    "H = {\n",
    "    \"train\": {\"loss\":   np.zeros((epochs+1, len(train_loader))),\n",
    "              \"accu\":   np.zeros((epochs+1, len(train_loader))),\n",
    "              \"m_loss\": np.zeros((epochs+1)),\n",
    "              \"m_accu\": np.zeros((epochs+1))},\n",
    "    \"valid\": {\"loss\":   np.zeros((epochs+1, len(valid_loader))),\n",
    "              \"accu\":   np.zeros((epochs+1, len(valid_loader))),\n",
    "              \"m_loss\": np.zeros((epochs+1)),\n",
    "              \"m_accu\": np.zeros((epochs+1))}\n",
    "}\n",
    "\n",
    "(H[\"train\"][\"m_loss\"][0], H[\"train\"][\"loss\"][0, :],\n",
    " H[\"train\"][\"m_accu\"][0], H[\"train\"][\"accu\"][0, :]) = eval_model(model, train_loader, criterion, accuracy, epoch=0)\n",
    "(H[\"valid\"][\"m_loss\"][0], H[\"valid\"][\"loss\"][0, :],\n",
    " H[\"valid\"][\"m_accu\"][0], H[\"valid\"][\"accu\"][0, :]) = eval_model(model, valid_loader, criterion, accuracy, epoch=0)\n",
    "\n",
    "print_H_at_epoch(H, 0)\n",
    "best_valid_loss = float(\"inf\")\n",
    "best_model = None\n",
    "best_epoch = None\n",
    "\n",
    "for e in range(1, epochs+1):\n",
    "    (H[\"train\"][\"m_loss\"][e], H[\"train\"][\"loss\"][e, :],\n",
    "     H[\"train\"][\"m_accu\"][e], H[\"train\"][\"accu\"][e, :]) = train_model(model, train_loader, criterion, accuracy, e)\n",
    "    \n",
    "    (H[\"valid\"][\"m_loss\"][e], H[\"valid\"][\"loss\"][e, :],\n",
    "     H[\"valid\"][\"m_accu\"][e], H[\"valid\"][\"accu\"][e, :]) = eval_model(model, valid_loader, criterion, accuracy, e)\n",
    "\n",
    "    print_H_at_epoch(H, e)\n",
    "    if best_valid_loss > H[\"valid\"][\"m_loss\"][e]:\n",
    "        best_valid_loss = H[\"valid\"][\"m_loss\"][e]\n",
    "        best_model = copy.deepcopy(model)\n",
    "        best_epoch = e\n",
    "\n",
    "(mean_loss, loss, mean_accu, accu) = eval_model(best_model, test_loader, criterion, accuracy)\n",
    "print(f\"Best model [{best_epoch}]: ({mean_loss:.3f}, {mean_accu:.2%})\")"
   ]
  },
  {
   "cell_type": "markdown",
   "metadata": {
    "id": "RV4PbniAQgvE"
   },
   "source": [
    "## Visualisation des courbes d'apprentissage"
   ]
  },
  {
   "cell_type": "code",
   "execution_count": null,
   "metadata": {},
   "outputs": [],
   "source": [
    "def plot_metric(H, max_epoch:int, metric:str=\"accu\"):\n",
    "    fig = plt.figure(figsize=(6, 3))\n",
    "\n",
    "    cmap = plt.get_cmap(\"tab10\")\n",
    "    colors = [cmap(1), cmap(0)]\n",
    "    xline = np.arange(max_epoch+1)\n",
    "    handles = []\n",
    "    labels = [\"valid\", \"train\"]\n",
    "\n",
    "    for c, dataset in zip(colors, labels):\n",
    "        std  = np.sqrt(np.var(H[dataset][metric], axis=1))[:max_epoch+1]\n",
    "        mean = H[dataset][f\"m_{metric}\"][:max_epoch+1]\n",
    "        plt.fill_between(xline, mean-std, mean+std, linewidth=0, color=c, alpha=0.4)\n",
    "        line, = plt.plot(xline, mean, color=c)\n",
    "        handles += [line]\n",
    "\n",
    "    plt.xlabel(\"epoch\")\n",
    "    if metric == \"accu\":\n",
    "        plt.ylim([min(min(H[\"train\"][\"m_accu\"]), min(H[\"valid\"][\"m_accu\"])), 1])\n",
    "    elif metric == \"loss\":\n",
    "        plt.ylim([0, max(max(H[\"train\"][f\"m_loss\"]), max(H[\"valid\"][f\"m_loss\"]))])\n",
    "    plt.legend(handles[::-1], labels[::-1])\n",
    "    plt.grid()"
   ]
  },
  {
   "cell_type": "code",
   "execution_count": null,
   "metadata": {
    "id": "IXnhGotUOQeT"
   },
   "outputs": [],
   "source": [
    "os.makedirs(\"backup\", exist_ok=True)\n",
    "backup_folder = \"backup/new\"\n",
    "os.makedirs(backup_folder, exist_ok=True)    \n",
    "    \n",
    "plot_metric(H, max_epoch=epochs, metric=\"accu\")\n",
    "plt.savefig(f\"{backup_folder}/accu.pdf\", bbox_inches=\"tight\")\n",
    "plot_metric(H, max_epoch=epochs, metric=\"loss\")\n",
    "plt.savefig(f\"{backup_folder}/loss.pdf\", bbox_inches=\"tight\")"
   ]
  },
  {
   "cell_type": "markdown",
   "metadata": {},
   "source": [
    "## Sauvegarde"
   ]
  },
  {
   "cell_type": "code",
   "execution_count": null,
   "metadata": {},
   "outputs": [],
   "source": [
    "torch.save(model.state_dict(), f\"{backup_folder}/model.pth\")\n",
    "\n",
    "backup = {}\n",
    "backup[\"loader\"] = {\"train\": len(train_loader), \"valid\": len(valid_loader), \"test\": len(test_loader)}\n",
    "backup[\"opti\"]   = {\"optimizer\": \"SGD\", \"lr\": lr, \"batch_size\": batch_size, \"epochs\": epochs}\n",
    "backup[\"train_loss\"] = H[\"train\"][\"m_loss\"].tolist()\n",
    "backup[\"train_accu\"] = H[\"train\"][\"m_accu\"].tolist()\n",
    "backup[\"valid_loss\"] = H[\"valid\"][\"m_loss\"].tolist()\n",
    "backup[\"valid_accu\"] = H[\"valid\"][\"m_accu\"].tolist()\n",
    "backup[\"train_loss_batch\"] = H[\"train\"][\"loss\"].tolist()\n",
    "backup[\"train_accu_batch\"] = H[\"train\"][\"accu\"].tolist()\n",
    "backup[\"valid_loss_batch\"] = H[\"valid\"][\"loss\"].tolist()\n",
    "backup[\"valid_accu_batch\"] = H[\"valid\"][\"accu\"].tolist()\n",
    "\n",
    "with open(f\"{backup_folder}/backup.json\", \"w\") as fd:\n",
    "    json.dump(backup, fd)"
   ]
  },
  {
   "cell_type": "markdown",
   "metadata": {},
   "source": [
    "## Chargement d'une sauvegarde"
   ]
  },
  {
   "cell_type": "code",
   "execution_count": null,
   "metadata": {},
   "outputs": [],
   "source": [
    "backup_folder = \"backup/new\"\n",
    "\n",
    "with open(f\"{backup_folder}/backup.json\") as fd:\n",
    "    backup = json.load(fd)\n",
    "    \n",
    "H = {\"train\": {}, \"valid\": {}}\n",
    "H[\"train\"][\"m_loss\"] = np.array(backup[\"train_loss\"])\n",
    "H[\"train\"][\"m_accu\"] = np.array(backup[\"train_accu\"])\n",
    "H[\"valid\"][\"m_loss\"] = np.array(backup[\"valid_loss\"])\n",
    "H[\"valid\"][\"m_accu\"] = np.array(backup[\"valid_accu\"])\n",
    "H[\"train\"][\"loss\"] = np.array(backup[\"train_loss_batch\"])\n",
    "H[\"train\"][\"accu\"] = np.array(backup[\"train_accu_batch\"])\n",
    "H[\"valid\"][\"loss\"] = np.array(backup[\"valid_loss_batch\"])\n",
    "H[\"valid\"][\"accu\"] = np.array(backup[\"valid_accu_batch\"])\n",
    "\n",
    "epochs = backup[\"opti\"][\"epochs\"]\n",
    "\n",
    "# model = LeakTestNet().to(device)\n",
    "model, _ = init_resnet18_binary()\n",
    "model_weights = torch.load(f\"{backup_folder}/model.pth\")\n",
    "model.load_state_dict(model_weights)"
   ]
  },
  {
   "cell_type": "code",
   "execution_count": null,
   "metadata": {},
   "outputs": [],
   "source": [
    "plot_metric(H, max_epoch=epochs, metric=\"accu\")\n",
    "plot_metric(H, max_epoch=epochs, metric=\"loss\")"
   ]
  },
  {
   "cell_type": "code",
   "execution_count": null,
   "metadata": {},
   "outputs": [],
   "source": [
    "(mean_loss, loss, mean_accu, accu) = eval_model(model, test_loader, criterion, accuracy)\n",
    "print(f\"Best model: ({mean_loss:.3f}, {mean_accu:.2%})\")"
   ]
  },
  {
   "cell_type": "code",
   "execution_count": null,
   "metadata": {},
   "outputs": [],
   "source": []
  }
 ],
 "metadata": {
  "accelerator": "GPU",
  "colab": {
   "provenance": []
  },
  "gpuClass": "standard",
  "kernelspec": {
   "display_name": "Python 3 (ipykernel)",
   "language": "python",
   "name": "python3"
  },
  "language_info": {
   "codemirror_mode": {
    "name": "ipython",
    "version": 3
   },
   "file_extension": ".py",
   "mimetype": "text/x-python",
   "name": "python",
   "nbconvert_exporter": "python",
   "pygments_lexer": "ipython3",
   "version": "3.8.10"
  }
 },
 "nbformat": 4,
 "nbformat_minor": 1
}
