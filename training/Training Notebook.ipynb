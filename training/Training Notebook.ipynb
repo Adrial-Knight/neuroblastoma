{
 "cells": [
  {
   "cell_type": "markdown",
   "metadata": {
    "id": "kpjnQuZuKhxg"
   },
   "source": [
    "# Neuroblastoma"
   ]
  },
  {
   "cell_type": "markdown",
   "metadata": {
    "id": "aBP1H2nAQfaN"
   },
   "source": [
    "## Imports python"
   ]
  },
  {
   "cell_type": "code",
   "execution_count": 1,
   "metadata": {
    "id": "ZoUVKA9APZEZ"
   },
   "outputs": [
    {
     "name": "stderr",
     "output_type": "stream",
     "text": [
      "/home/pierre/.local/lib/python3.8/site-packages/tqdm/auto.py:22: TqdmWarning: IProgress not found. Please update jupyter and ipywidgets. See https://ipywidgets.readthedocs.io/en/stable/user_install.html\n",
      "  from .autonotebook import tqdm as notebook_tqdm\n"
     ]
    }
   ],
   "source": [
    "import torch\n",
    "import torchvision.transforms as transforms\n",
    "import torchvision.datasets as datasets\n",
    "import torch.optim as optim\n",
    "import torchmetrics.classification as classification\n",
    "import copy\n",
    "import matplotlib.pyplot as plt\n",
    "import numpy as np\n",
    "import json\n",
    "import os\n",
    "\n",
    "from torch import nn"
   ]
  },
  {
   "cell_type": "markdown",
   "metadata": {
    "id": "onj806KVjvox"
   },
   "source": [
    "\n",
    "## Vérification GPU"
   ]
  },
  {
   "cell_type": "code",
   "execution_count": 2,
   "metadata": {
    "colab": {
     "base_uri": "https://localhost:8080/"
    },
    "id": "QZ3NVkxIjsXp",
    "outputId": "29f6272a-ff07-4226-b37e-5ecb9cf83e3c"
   },
   "outputs": [
    {
     "name": "stdout",
     "output_type": "stream",
     "text": [
      "Using cpu device\n"
     ]
    }
   ],
   "source": [
    "device = \"cuda\" if torch.cuda.is_available() else \"cpu\"\n",
    "print(f\"Using {device} device\")"
   ]
  },
  {
   "cell_type": "markdown",
   "metadata": {
    "id": "k2hQ_2kYRcg9"
   },
   "source": [
    "## Chargement des datasets et preprocessing"
   ]
  },
  {
   "cell_type": "code",
   "execution_count": 3,
   "metadata": {
    "id": "T9b76e0sRieL"
   },
   "outputs": [],
   "source": [
    "root_dir  = \"../database/250/leak_experience/Exp_2/\"\n",
    "train_dir = \"train/\"\n",
    "valid_dir = \"valid/\"\n",
    "test_dir  = \"test/\"\n",
    "\n",
    "train_transform = transforms.Compose([\n",
    "    transforms.ToTensor(),\n",
    "    transforms.Normalize((0.66747984797634830, 0.5799524696639141, 0.78054363559995920), (0.23162625605944703, 0.2340601507820534, 0.14160506754101998)),\n",
    "    transforms.RandomCrop((224, 224))]\n",
    ")\n",
    "eval_transform = transforms.Compose([\n",
    "    transforms.ToTensor(),\n",
    "    transforms.Normalize((0.66747984797634830, 0.5799524696639141, 0.78054363559995920), (0.23162625605944703, 0.2340601507820534, 0.14160506754101998)),\n",
    "    transforms.CenterCrop((224, 224))]\n",
    ")\n",
    "\n",
    "# Chargement des données\n",
    "train_dataset = datasets.ImageFolder(f\"{root_dir}/{train_dir}\", train_transform)\n",
    "valid_dataset = datasets.ImageFolder(f\"{root_dir}/{valid_dir}\", eval_transform)\n",
    "test_dataset  = datasets.ImageFolder(f\"{root_dir}/{test_dir}\",  eval_transform)"
   ]
  },
  {
   "cell_type": "markdown",
   "metadata": {
    "id": "QH6iEdB-cl1h"
   },
   "source": [
    "## Modèle"
   ]
  },
  {
   "cell_type": "code",
   "execution_count": 25,
   "metadata": {
    "colab": {
     "base_uri": "https://localhost:8080/"
    },
    "id": "6TG_LVwDcnlj",
    "outputId": "b587ce8d-19a1-41c9-e621-2bac39ea639b"
   },
   "outputs": [],
   "source": [
    "from Models.leak_test_net import LeakTestNet"
   ]
  },
  {
   "cell_type": "markdown",
   "metadata": {
    "id": "T_INuU9dn_pc"
   },
   "source": [
    "## Entraînement"
   ]
  },
  {
   "cell_type": "code",
   "execution_count": 26,
   "metadata": {
    "id": "dq_b2EbYm5DM"
   },
   "outputs": [],
   "source": [
    "batch_size = 32\n",
    "lr = 4e-6\n",
    "epochs = 100\n",
    "\n",
    "model = LeakTestNet().to(device)\n",
    "\n",
    "optimizer = optim.Adam(model.parameters(), lr, betas=(0.9, 0.999))\n",
    "criterion = nn.BCELoss()\n",
    "accuracy  = classification.BinaryAccuracy().to(device)\n",
    "\n",
    "train_loader = torch.utils.data.DataLoader(train_dataset, batch_size, shuffle=True)\n",
    "valid_loader = torch.utils.data.DataLoader(valid_dataset, batch_size, shuffle=False)\n",
    "test_loader  = torch.utils.data.DataLoader(test_dataset,  batch_size, shuffle=False)"
   ]
  },
  {
   "cell_type": "code",
   "execution_count": 27,
   "metadata": {
    "colab": {
     "base_uri": "https://localhost:8080/"
    },
    "collapsed": true,
    "id": "ck2642AT19hG",
    "outputId": "08485706-3da3-4523-897e-ad36043acb5b"
   },
   "outputs": [
    {
     "name": "stdout",
     "output_type": "stream",
     "text": [
      "Epoch   0: Train=(0.693, 46.46%) | Valid=(0.698, 44.76%)\n"
     ]
    },
    {
     "ename": "KeyboardInterrupt",
     "evalue": "",
     "output_type": "error",
     "traceback": [
      "\u001b[0;31m---------------------------------------------------------------------------\u001b[0m",
      "\u001b[0;31mKeyboardInterrupt\u001b[0m                         Traceback (most recent call last)",
      "Cell \u001b[0;32mIn[27], line 66\u001b[0m\n\u001b[1;32m     62\u001b[0m best_model \u001b[38;5;241m=\u001b[39m copy\u001b[38;5;241m.\u001b[39mdeepcopy(model)\n\u001b[1;32m     64\u001b[0m \u001b[38;5;28;01mfor\u001b[39;00m e \u001b[38;5;129;01min\u001b[39;00m \u001b[38;5;28mrange\u001b[39m(\u001b[38;5;241m1\u001b[39m, epochs\u001b[38;5;241m+\u001b[39m\u001b[38;5;241m1\u001b[39m):\n\u001b[1;32m     65\u001b[0m     (H[\u001b[38;5;124m\"\u001b[39m\u001b[38;5;124mtrain\u001b[39m\u001b[38;5;124m\"\u001b[39m][\u001b[38;5;124m\"\u001b[39m\u001b[38;5;124mm_loss\u001b[39m\u001b[38;5;124m\"\u001b[39m][e], H[\u001b[38;5;124m\"\u001b[39m\u001b[38;5;124mtrain\u001b[39m\u001b[38;5;124m\"\u001b[39m][\u001b[38;5;124m\"\u001b[39m\u001b[38;5;124mloss\u001b[39m\u001b[38;5;124m\"\u001b[39m][e, :],\n\u001b[0;32m---> 66\u001b[0m      H[\u001b[38;5;124m\"\u001b[39m\u001b[38;5;124mtrain\u001b[39m\u001b[38;5;124m\"\u001b[39m][\u001b[38;5;124m\"\u001b[39m\u001b[38;5;124mm_accu\u001b[39m\u001b[38;5;124m\"\u001b[39m][e], H[\u001b[38;5;124m\"\u001b[39m\u001b[38;5;124mtrain\u001b[39m\u001b[38;5;124m\"\u001b[39m][\u001b[38;5;124m\"\u001b[39m\u001b[38;5;124maccu\u001b[39m\u001b[38;5;124m\"\u001b[39m][e, :]) \u001b[38;5;241m=\u001b[39m \u001b[43mtrain_model\u001b[49m\u001b[43m(\u001b[49m\u001b[43mmodel\u001b[49m\u001b[43m,\u001b[49m\u001b[43m \u001b[49m\u001b[43mtrain_loader\u001b[49m\u001b[43m,\u001b[49m\u001b[43m \u001b[49m\u001b[43mcriterion\u001b[49m\u001b[43m,\u001b[49m\u001b[43m \u001b[49m\u001b[43maccuracy\u001b[49m\u001b[43m,\u001b[49m\u001b[43m \u001b[49m\u001b[43me\u001b[49m\u001b[43m)\u001b[49m\n\u001b[1;32m     68\u001b[0m     (H[\u001b[38;5;124m\"\u001b[39m\u001b[38;5;124mvalid\u001b[39m\u001b[38;5;124m\"\u001b[39m][\u001b[38;5;124m\"\u001b[39m\u001b[38;5;124mm_loss\u001b[39m\u001b[38;5;124m\"\u001b[39m][e], H[\u001b[38;5;124m\"\u001b[39m\u001b[38;5;124mvalid\u001b[39m\u001b[38;5;124m\"\u001b[39m][\u001b[38;5;124m\"\u001b[39m\u001b[38;5;124mloss\u001b[39m\u001b[38;5;124m\"\u001b[39m][e, :],\n\u001b[1;32m     69\u001b[0m      H[\u001b[38;5;124m\"\u001b[39m\u001b[38;5;124mvalid\u001b[39m\u001b[38;5;124m\"\u001b[39m][\u001b[38;5;124m\"\u001b[39m\u001b[38;5;124mm_accu\u001b[39m\u001b[38;5;124m\"\u001b[39m][e], H[\u001b[38;5;124m\"\u001b[39m\u001b[38;5;124mvalid\u001b[39m\u001b[38;5;124m\"\u001b[39m][\u001b[38;5;124m\"\u001b[39m\u001b[38;5;124maccu\u001b[39m\u001b[38;5;124m\"\u001b[39m][e, :]) \u001b[38;5;241m=\u001b[39m eval_model(model, valid_loader, criterion, accuracy, e)\n\u001b[1;32m     71\u001b[0m     print_H_at_epoch(H, e)\n",
      "Cell \u001b[0;32mIn[27], line 8\u001b[0m, in \u001b[0;36mtrain_model\u001b[0;34m(model, loader, criterion, accuracy, epoch)\u001b[0m\n\u001b[1;32m      6\u001b[0m (inputs, labels) \u001b[38;5;241m=\u001b[39m (inputs\u001b[38;5;241m.\u001b[39mto(device), labels\u001b[38;5;241m.\u001b[39mto(device))\n\u001b[1;32m      7\u001b[0m labels  \u001b[38;5;241m=\u001b[39m labels\u001b[38;5;241m.\u001b[39munsqueeze(\u001b[38;5;241m1\u001b[39m)\u001b[38;5;241m.\u001b[39mto(torch\u001b[38;5;241m.\u001b[39mfloat32)\n\u001b[0;32m----> 8\u001b[0m outputs \u001b[38;5;241m=\u001b[39m \u001b[43mmodel\u001b[49m\u001b[43m(\u001b[49m\u001b[43minputs\u001b[49m\u001b[43m)\u001b[49m\n\u001b[1;32m      9\u001b[0m cr_loss \u001b[38;5;241m=\u001b[39m criterion(outputs, labels)\n\u001b[1;32m     11\u001b[0m optimizer\u001b[38;5;241m.\u001b[39mzero_grad()\n",
      "File \u001b[0;32m~/.local/lib/python3.8/site-packages/torch/nn/modules/module.py:1194\u001b[0m, in \u001b[0;36mModule._call_impl\u001b[0;34m(self, *input, **kwargs)\u001b[0m\n\u001b[1;32m   1190\u001b[0m \u001b[38;5;66;03m# If we don't have any hooks, we want to skip the rest of the logic in\u001b[39;00m\n\u001b[1;32m   1191\u001b[0m \u001b[38;5;66;03m# this function, and just call forward.\u001b[39;00m\n\u001b[1;32m   1192\u001b[0m \u001b[38;5;28;01mif\u001b[39;00m \u001b[38;5;129;01mnot\u001b[39;00m (\u001b[38;5;28mself\u001b[39m\u001b[38;5;241m.\u001b[39m_backward_hooks \u001b[38;5;129;01mor\u001b[39;00m \u001b[38;5;28mself\u001b[39m\u001b[38;5;241m.\u001b[39m_forward_hooks \u001b[38;5;129;01mor\u001b[39;00m \u001b[38;5;28mself\u001b[39m\u001b[38;5;241m.\u001b[39m_forward_pre_hooks \u001b[38;5;129;01mor\u001b[39;00m _global_backward_hooks\n\u001b[1;32m   1193\u001b[0m         \u001b[38;5;129;01mor\u001b[39;00m _global_forward_hooks \u001b[38;5;129;01mor\u001b[39;00m _global_forward_pre_hooks):\n\u001b[0;32m-> 1194\u001b[0m     \u001b[38;5;28;01mreturn\u001b[39;00m \u001b[43mforward_call\u001b[49m\u001b[43m(\u001b[49m\u001b[38;5;241;43m*\u001b[39;49m\u001b[38;5;28;43minput\u001b[39;49m\u001b[43m,\u001b[49m\u001b[43m \u001b[49m\u001b[38;5;241;43m*\u001b[39;49m\u001b[38;5;241;43m*\u001b[39;49m\u001b[43mkwargs\u001b[49m\u001b[43m)\u001b[49m\n\u001b[1;32m   1195\u001b[0m \u001b[38;5;66;03m# Do not call functions when jit is used\u001b[39;00m\n\u001b[1;32m   1196\u001b[0m full_backward_hooks, non_full_backward_hooks \u001b[38;5;241m=\u001b[39m [], []\n",
      "File \u001b[0;32m~/Documents/neuroblastoma/training/Models/leak_test_net.py:26\u001b[0m, in \u001b[0;36mLeakTestNet.forward\u001b[0;34m(self, x)\u001b[0m\n\u001b[1;32m     25\u001b[0m \u001b[38;5;28;01mdef\u001b[39;00m \u001b[38;5;21mforward\u001b[39m(\u001b[38;5;28mself\u001b[39m, x):\n\u001b[0;32m---> 26\u001b[0m     a \u001b[38;5;241m=\u001b[39m \u001b[38;5;28;43mself\u001b[39;49m\u001b[38;5;241;43m.\u001b[39;49m\u001b[43mcnn\u001b[49m\u001b[43m(\u001b[49m\u001b[43mx\u001b[49m\u001b[43m)\u001b[49m\n\u001b[1;32m     27\u001b[0m     b \u001b[38;5;241m=\u001b[39m \u001b[38;5;28mself\u001b[39m\u001b[38;5;241m.\u001b[39mnn(a)\n\u001b[1;32m     28\u001b[0m     \u001b[38;5;28;01mreturn\u001b[39;00m b\n",
      "File \u001b[0;32m~/.local/lib/python3.8/site-packages/torch/nn/modules/module.py:1194\u001b[0m, in \u001b[0;36mModule._call_impl\u001b[0;34m(self, *input, **kwargs)\u001b[0m\n\u001b[1;32m   1190\u001b[0m \u001b[38;5;66;03m# If we don't have any hooks, we want to skip the rest of the logic in\u001b[39;00m\n\u001b[1;32m   1191\u001b[0m \u001b[38;5;66;03m# this function, and just call forward.\u001b[39;00m\n\u001b[1;32m   1192\u001b[0m \u001b[38;5;28;01mif\u001b[39;00m \u001b[38;5;129;01mnot\u001b[39;00m (\u001b[38;5;28mself\u001b[39m\u001b[38;5;241m.\u001b[39m_backward_hooks \u001b[38;5;129;01mor\u001b[39;00m \u001b[38;5;28mself\u001b[39m\u001b[38;5;241m.\u001b[39m_forward_hooks \u001b[38;5;129;01mor\u001b[39;00m \u001b[38;5;28mself\u001b[39m\u001b[38;5;241m.\u001b[39m_forward_pre_hooks \u001b[38;5;129;01mor\u001b[39;00m _global_backward_hooks\n\u001b[1;32m   1193\u001b[0m         \u001b[38;5;129;01mor\u001b[39;00m _global_forward_hooks \u001b[38;5;129;01mor\u001b[39;00m _global_forward_pre_hooks):\n\u001b[0;32m-> 1194\u001b[0m     \u001b[38;5;28;01mreturn\u001b[39;00m \u001b[43mforward_call\u001b[49m\u001b[43m(\u001b[49m\u001b[38;5;241;43m*\u001b[39;49m\u001b[38;5;28;43minput\u001b[39;49m\u001b[43m,\u001b[49m\u001b[43m \u001b[49m\u001b[38;5;241;43m*\u001b[39;49m\u001b[38;5;241;43m*\u001b[39;49m\u001b[43mkwargs\u001b[49m\u001b[43m)\u001b[49m\n\u001b[1;32m   1195\u001b[0m \u001b[38;5;66;03m# Do not call functions when jit is used\u001b[39;00m\n\u001b[1;32m   1196\u001b[0m full_backward_hooks, non_full_backward_hooks \u001b[38;5;241m=\u001b[39m [], []\n",
      "File \u001b[0;32m~/.local/lib/python3.8/site-packages/torch/nn/modules/container.py:204\u001b[0m, in \u001b[0;36mSequential.forward\u001b[0;34m(self, input)\u001b[0m\n\u001b[1;32m    202\u001b[0m \u001b[38;5;28;01mdef\u001b[39;00m \u001b[38;5;21mforward\u001b[39m(\u001b[38;5;28mself\u001b[39m, \u001b[38;5;28minput\u001b[39m):\n\u001b[1;32m    203\u001b[0m     \u001b[38;5;28;01mfor\u001b[39;00m module \u001b[38;5;129;01min\u001b[39;00m \u001b[38;5;28mself\u001b[39m:\n\u001b[0;32m--> 204\u001b[0m         \u001b[38;5;28minput\u001b[39m \u001b[38;5;241m=\u001b[39m \u001b[43mmodule\u001b[49m\u001b[43m(\u001b[49m\u001b[38;5;28;43minput\u001b[39;49m\u001b[43m)\u001b[49m\n\u001b[1;32m    205\u001b[0m     \u001b[38;5;28;01mreturn\u001b[39;00m \u001b[38;5;28minput\u001b[39m\n",
      "File \u001b[0;32m~/.local/lib/python3.8/site-packages/torch/nn/modules/module.py:1194\u001b[0m, in \u001b[0;36mModule._call_impl\u001b[0;34m(self, *input, **kwargs)\u001b[0m\n\u001b[1;32m   1190\u001b[0m \u001b[38;5;66;03m# If we don't have any hooks, we want to skip the rest of the logic in\u001b[39;00m\n\u001b[1;32m   1191\u001b[0m \u001b[38;5;66;03m# this function, and just call forward.\u001b[39;00m\n\u001b[1;32m   1192\u001b[0m \u001b[38;5;28;01mif\u001b[39;00m \u001b[38;5;129;01mnot\u001b[39;00m (\u001b[38;5;28mself\u001b[39m\u001b[38;5;241m.\u001b[39m_backward_hooks \u001b[38;5;129;01mor\u001b[39;00m \u001b[38;5;28mself\u001b[39m\u001b[38;5;241m.\u001b[39m_forward_hooks \u001b[38;5;129;01mor\u001b[39;00m \u001b[38;5;28mself\u001b[39m\u001b[38;5;241m.\u001b[39m_forward_pre_hooks \u001b[38;5;129;01mor\u001b[39;00m _global_backward_hooks\n\u001b[1;32m   1193\u001b[0m         \u001b[38;5;129;01mor\u001b[39;00m _global_forward_hooks \u001b[38;5;129;01mor\u001b[39;00m _global_forward_pre_hooks):\n\u001b[0;32m-> 1194\u001b[0m     \u001b[38;5;28;01mreturn\u001b[39;00m \u001b[43mforward_call\u001b[49m\u001b[43m(\u001b[49m\u001b[38;5;241;43m*\u001b[39;49m\u001b[38;5;28;43minput\u001b[39;49m\u001b[43m,\u001b[49m\u001b[43m \u001b[49m\u001b[38;5;241;43m*\u001b[39;49m\u001b[38;5;241;43m*\u001b[39;49m\u001b[43mkwargs\u001b[49m\u001b[43m)\u001b[49m\n\u001b[1;32m   1195\u001b[0m \u001b[38;5;66;03m# Do not call functions when jit is used\u001b[39;00m\n\u001b[1;32m   1196\u001b[0m full_backward_hooks, non_full_backward_hooks \u001b[38;5;241m=\u001b[39m [], []\n",
      "File \u001b[0;32m~/.local/lib/python3.8/site-packages/torch/nn/modules/conv.py:463\u001b[0m, in \u001b[0;36mConv2d.forward\u001b[0;34m(self, input)\u001b[0m\n\u001b[1;32m    462\u001b[0m \u001b[38;5;28;01mdef\u001b[39;00m \u001b[38;5;21mforward\u001b[39m(\u001b[38;5;28mself\u001b[39m, \u001b[38;5;28minput\u001b[39m: Tensor) \u001b[38;5;241m-\u001b[39m\u001b[38;5;241m>\u001b[39m Tensor:\n\u001b[0;32m--> 463\u001b[0m     \u001b[38;5;28;01mreturn\u001b[39;00m \u001b[38;5;28;43mself\u001b[39;49m\u001b[38;5;241;43m.\u001b[39;49m\u001b[43m_conv_forward\u001b[49m\u001b[43m(\u001b[49m\u001b[38;5;28;43minput\u001b[39;49m\u001b[43m,\u001b[49m\u001b[43m \u001b[49m\u001b[38;5;28;43mself\u001b[39;49m\u001b[38;5;241;43m.\u001b[39;49m\u001b[43mweight\u001b[49m\u001b[43m,\u001b[49m\u001b[43m \u001b[49m\u001b[38;5;28;43mself\u001b[39;49m\u001b[38;5;241;43m.\u001b[39;49m\u001b[43mbias\u001b[49m\u001b[43m)\u001b[49m\n",
      "File \u001b[0;32m~/.local/lib/python3.8/site-packages/torch/nn/modules/conv.py:459\u001b[0m, in \u001b[0;36mConv2d._conv_forward\u001b[0;34m(self, input, weight, bias)\u001b[0m\n\u001b[1;32m    455\u001b[0m \u001b[38;5;28;01mif\u001b[39;00m \u001b[38;5;28mself\u001b[39m\u001b[38;5;241m.\u001b[39mpadding_mode \u001b[38;5;241m!=\u001b[39m \u001b[38;5;124m'\u001b[39m\u001b[38;5;124mzeros\u001b[39m\u001b[38;5;124m'\u001b[39m:\n\u001b[1;32m    456\u001b[0m     \u001b[38;5;28;01mreturn\u001b[39;00m F\u001b[38;5;241m.\u001b[39mconv2d(F\u001b[38;5;241m.\u001b[39mpad(\u001b[38;5;28minput\u001b[39m, \u001b[38;5;28mself\u001b[39m\u001b[38;5;241m.\u001b[39m_reversed_padding_repeated_twice, mode\u001b[38;5;241m=\u001b[39m\u001b[38;5;28mself\u001b[39m\u001b[38;5;241m.\u001b[39mpadding_mode),\n\u001b[1;32m    457\u001b[0m                     weight, bias, \u001b[38;5;28mself\u001b[39m\u001b[38;5;241m.\u001b[39mstride,\n\u001b[1;32m    458\u001b[0m                     _pair(\u001b[38;5;241m0\u001b[39m), \u001b[38;5;28mself\u001b[39m\u001b[38;5;241m.\u001b[39mdilation, \u001b[38;5;28mself\u001b[39m\u001b[38;5;241m.\u001b[39mgroups)\n\u001b[0;32m--> 459\u001b[0m \u001b[38;5;28;01mreturn\u001b[39;00m \u001b[43mF\u001b[49m\u001b[38;5;241;43m.\u001b[39;49m\u001b[43mconv2d\u001b[49m\u001b[43m(\u001b[49m\u001b[38;5;28;43minput\u001b[39;49m\u001b[43m,\u001b[49m\u001b[43m \u001b[49m\u001b[43mweight\u001b[49m\u001b[43m,\u001b[49m\u001b[43m \u001b[49m\u001b[43mbias\u001b[49m\u001b[43m,\u001b[49m\u001b[43m \u001b[49m\u001b[38;5;28;43mself\u001b[39;49m\u001b[38;5;241;43m.\u001b[39;49m\u001b[43mstride\u001b[49m\u001b[43m,\u001b[49m\n\u001b[1;32m    460\u001b[0m \u001b[43m                \u001b[49m\u001b[38;5;28;43mself\u001b[39;49m\u001b[38;5;241;43m.\u001b[39;49m\u001b[43mpadding\u001b[49m\u001b[43m,\u001b[49m\u001b[43m \u001b[49m\u001b[38;5;28;43mself\u001b[39;49m\u001b[38;5;241;43m.\u001b[39;49m\u001b[43mdilation\u001b[49m\u001b[43m,\u001b[49m\u001b[43m \u001b[49m\u001b[38;5;28;43mself\u001b[39;49m\u001b[38;5;241;43m.\u001b[39;49m\u001b[43mgroups\u001b[49m\u001b[43m)\u001b[49m\n",
      "\u001b[0;31mKeyboardInterrupt\u001b[0m: "
     ]
    }
   ],
   "source": [
    "def train_model(model, loader, criterion, accuracy, epoch:int=0):\n",
    "    loss, accu = np.zeros((len(loader))), np.zeros((len(loader)))\n",
    "    accuracy.reset()\n",
    "    model.train()\n",
    "    for b, (inputs, labels) in enumerate(loader):\n",
    "        (inputs, labels) = (inputs.to(device), labels.to(device))\n",
    "        labels  = labels.unsqueeze(1).to(torch.float32)\n",
    "        outputs = model(inputs)\n",
    "        cr_loss = criterion(outputs, labels)\n",
    "\n",
    "        optimizer.zero_grad()\n",
    "        cr_loss.backward()\n",
    "        optimizer.step()\n",
    "\n",
    "        loss[b] = cr_loss.item()\n",
    "        accu[b] = accuracy(outputs, labels).item()\n",
    "    mean_loss = np.mean(loss)\n",
    "    mean_accu = np.mean(accu)\n",
    "    return mean_loss, loss, mean_accu, accu\n",
    "\n",
    "\n",
    "def eval_model(model, loader, criterion, accuracy, epoch:int=0):\n",
    "    loss, accu = np.zeros((len(loader))), np.zeros((len(loader)))\n",
    "    accuracy.reset()\n",
    "    model.eval()\n",
    "    with torch.no_grad():    \n",
    "        for b, (inputs, labels) in enumerate(loader):\n",
    "            (inputs, labels) = (inputs.to(device), labels.to(device))\n",
    "            labels  = labels.unsqueeze(1).to(torch.float32)\n",
    "            outputs = model(inputs)\n",
    "\n",
    "            cr_loss = criterion(outputs, labels)\n",
    "            loss[b] = cr_loss.item()\n",
    "            accu[b] = accuracy(outputs, labels).item()\n",
    "    mean_loss = np.mean(loss)\n",
    "    mean_accu = np.mean(accu)\n",
    "    return mean_loss, loss, mean_accu, accu\n",
    "\n",
    "def print_H_at_epoch(H, e:int=0):\n",
    "    print(f\"Epoch {e:3d}: Train=({H['train']['m_loss'][e]:.3f}, {H['train']['m_accu'][e]:.2%})\", end=\" | \")\n",
    "    print(              f\"Valid=({H['valid']['m_loss'][e]:.3f}, {H['valid']['m_accu'][e]:.2%})\")\n",
    "    \n",
    "# Historic\n",
    "H = {\n",
    "    \"train\": {\"loss\":   np.zeros((epochs+1, len(train_loader))),\n",
    "              \"accu\":   np.zeros((epochs+1, len(train_loader))),\n",
    "              \"m_loss\": np.zeros((epochs+1)),\n",
    "              \"m_accu\": np.zeros((epochs+1))},\n",
    "    \"valid\": {\"loss\":   np.zeros((epochs+1, len(valid_loader))),\n",
    "              \"accu\":   np.zeros((epochs+1, len(valid_loader))),\n",
    "              \"m_loss\": np.zeros((epochs+1)),\n",
    "              \"m_accu\": np.zeros((epochs+1))}\n",
    "}\n",
    "\n",
    "(H[\"train\"][\"m_loss\"][0], H[\"train\"][\"loss\"][0, :],\n",
    " H[\"train\"][\"m_accu\"][0], H[\"train\"][\"accu\"][0, :]) = eval_model(model, train_loader, criterion, accuracy, epoch=0)\n",
    "(H[\"valid\"][\"m_loss\"][0], H[\"valid\"][\"loss\"][0, :],\n",
    " H[\"valid\"][\"m_accu\"][0], H[\"valid\"][\"accu\"][0, :]) = eval_model(model, valid_loader, criterion, accuracy, epoch=0)\n",
    "\n",
    "print_H_at_epoch(H, 0)\n",
    "best_valid_accu = H[\"valid\"][\"m_accu\"][0]\n",
    "best_model = copy.deepcopy(model)\n",
    "\n",
    "for e in range(1, epochs+1):\n",
    "    (H[\"train\"][\"m_loss\"][e], H[\"train\"][\"loss\"][e, :],\n",
    "     H[\"train\"][\"m_accu\"][e], H[\"train\"][\"accu\"][e, :]) = train_model(model, train_loader, criterion, accuracy, e)\n",
    "    \n",
    "    (H[\"valid\"][\"m_loss\"][e], H[\"valid\"][\"loss\"][e, :],\n",
    "     H[\"valid\"][\"m_accu\"][e], H[\"valid\"][\"accu\"][e, :]) = eval_model(model, valid_loader, criterion, accuracy, e)\n",
    "\n",
    "    print_H_at_epoch(H, e)\n",
    "    if H[\"valid\"][\"m_accu\"][e] > best_valid_accu:\n",
    "        best_valid_accu = H[\"valid\"][\"m_accu\"][e]\n",
    "        best_model = copy.deepcopy(model)\n",
    "\n",
    "(mean_loss, loss, mean_accu, accu) = eval_model(best_model, test_loader, criterion, accuracy)\n",
    "print(f\"Best model: ({mean_loss:.3f}, {mean_accu:.2%})\")"
   ]
  },
  {
   "cell_type": "markdown",
   "metadata": {
    "id": "RV4PbniAQgvE"
   },
   "source": [
    "## Visualisation des courbes d'apprentissage"
   ]
  },
  {
   "cell_type": "code",
   "execution_count": 19,
   "metadata": {},
   "outputs": [],
   "source": [
    "def plot_metric(H, max_epoch:int, metric:str=\"accu\"):\n",
    "    fig = plt.figure(figsize=(6, 3))\n",
    "\n",
    "    cmap = plt.get_cmap(\"tab10\")\n",
    "    colors = [cmap(1), cmap(0)]\n",
    "    xline = np.arange(max_epoch+1)\n",
    "    handles = []\n",
    "    labels = [\"valid\", \"train\"]\n",
    "\n",
    "    for c, dataset in zip(colors, labels):\n",
    "        std  = np.sqrt(np.var(H[dataset][metric], axis=1))[:max_epoch+1]\n",
    "        mean = H[dataset][f\"m_{metric}\"][:max_epoch+1]\n",
    "        plt.fill_between(xline, mean-std, mean+std, linewidth=0, color=c, alpha=0.4)\n",
    "        line, = plt.plot(xline, mean, color=c)\n",
    "        handles += [line]\n",
    "\n",
    "    plt.xlabel(\"epoch\")\n",
    "    if metric == \"accu\":\n",
    "        plt.ylim([min(min(H[\"train\"][\"m_accu\"]), min(H[\"valid\"][\"m_accu\"])), 1])\n",
    "    elif metric == \"loss\":\n",
    "        plt.ylim([0, max(max(H[\"train\"][f\"m_loss\"]), max(H[\"valid\"][f\"m_loss\"]))])\n",
    "    plt.legend(handles[::-1], labels[::-1])\n",
    "    plt.grid()"
   ]
  },
  {
   "cell_type": "code",
   "execution_count": null,
   "metadata": {
    "id": "IXnhGotUOQeT"
   },
   "outputs": [],
   "source": [
    "os.makedirs(\"backup\", exist_ok=True)\n",
    "backup_folder = \"backup/new\"\n",
    "os.makedirs(backup_folder, exist_ok=True)    \n",
    "    \n",
    "plot_metric(H, max_epoch=epochs, metric=\"accu\")\n",
    "plt.savefig(f\"{backup_folder}/accu.pdf\", bbox_inches=\"tight\")\n",
    "plot_metric(H, max_epoch=epochs, metric=\"loss\")\n",
    "plt.savefig(f\"{backup_folder}/loss.pdf\", bbox_inches=\"tight\")"
   ]
  },
  {
   "cell_type": "markdown",
   "metadata": {},
   "source": [
    "## Sauvegarde"
   ]
  },
  {
   "cell_type": "code",
   "execution_count": null,
   "metadata": {},
   "outputs": [],
   "source": [
    "torch.save(model.state_dict(), f\"{backup_folder}/model.pth\")\n",
    "\n",
    "backup = {}\n",
    "backup[\"loader\"] = {\"train\": len(train_loader), \"valid\": len(valid_loader), \"test\": len(test_loader)}\n",
    "backup[\"opti\"]   = {\"optimizer\": \"Adam\", \"lr\": lr, \"batch_size\": batch_size, \"epochs\": epochs}\n",
    "backup[\"train_loss\"] = H[\"train\"][\"m_loss\"].tolist()\n",
    "backup[\"train_accu\"] = H[\"train\"][\"m_accu\"].tolist()\n",
    "backup[\"valid_loss\"] = H[\"valid\"][\"m_loss\"].tolist()\n",
    "backup[\"valid_accu\"] = H[\"valid\"][\"m_accu\"].tolist()\n",
    "backup[\"train_loss_batch\"] = H[\"train\"][\"loss\"].tolist()\n",
    "backup[\"train_accu_batch\"] = H[\"train\"][\"accu\"].tolist()\n",
    "backup[\"valid_loss_batch\"] = H[\"valid\"][\"loss\"].tolist()\n",
    "backup[\"valid_accu_batch\"] = H[\"valid\"][\"accu\"].tolist()\n",
    "\n",
    "with open(f\"{backup_folder}/backup.json\", \"w\") as fd:\n",
    "    json.dump(backup, fd)"
   ]
  },
  {
   "cell_type": "markdown",
   "metadata": {},
   "source": [
    "## Chargement d'une sauvegarde"
   ]
  },
  {
   "cell_type": "code",
   "execution_count": 28,
   "metadata": {},
   "outputs": [
    {
     "data": {
      "text/plain": [
       "<All keys matched successfully>"
      ]
     },
     "execution_count": 28,
     "metadata": {},
     "output_type": "execute_result"
    }
   ],
   "source": [
    "backup_folder = \"backup/leak_exp/Exp_2/\"\n",
    "\n",
    "with open(f\"{backup_folder}/backup.json\") as fd:\n",
    "    backup = json.load(fd)\n",
    "    \n",
    "H = {\"train\": {}, \"valid\": {}}\n",
    "H[\"train\"][\"m_loss\"] = np.array(backup[\"train_loss\"])\n",
    "H[\"train\"][\"m_accu\"] = np.array(backup[\"train_accu\"])\n",
    "H[\"valid\"][\"m_loss\"] = np.array(backup[\"valid_loss\"])\n",
    "H[\"valid\"][\"m_accu\"] = np.array(backup[\"valid_accu\"])\n",
    "H[\"train\"][\"loss\"] = np.array(backup[\"train_loss_batch\"])\n",
    "H[\"train\"][\"accu\"] = np.array(backup[\"train_accu_batch\"])\n",
    "H[\"valid\"][\"loss\"] = np.array(backup[\"valid_loss_batch\"])\n",
    "H[\"valid\"][\"accu\"] = np.array(backup[\"valid_accu_batch\"])\n",
    "\n",
    "epochs = backup[\"opti\"][\"epochs\"]\n",
    "\n",
    "model = LeakTestNet().to(device)\n",
    "model_weights = torch.load(f\"{backup_folder}/model.pth\")\n",
    "model.load_state_dict(model_weights)"
   ]
  },
  {
   "cell_type": "code",
   "execution_count": 23,
   "metadata": {},
   "outputs": [
    {
     "data": {
      "image/png": "[encoded data removed]",
      "text/plain": [
       "<Figure size 600x300 with 1 Axes>"
      ]
     },
     "metadata": {},
     "output_type": "display_data"
    },
    {
     "data": {
      "image/png": "[encoded data removed]",
      "text/plain": [
       "<Figure size 600x300 with 1 Axes>"
      ]
     },
     "metadata": {},
     "output_type": "display_data"
    }
   ],
   "source": [
    "plot_metric(H, max_epoch=epochs, metric=\"accu\")\n",
    "plot_metric(H, max_epoch=epochs, metric=\"loss\")"
   ]
  },
  {
   "cell_type": "code",
   "execution_count": null,
   "metadata": {},
   "outputs": [],
   "source": []
  },
  {
   "cell_type": "code",
   "execution_count": null,
   "metadata": {},
   "outputs": [],
   "source": []
  }
 ],
 "metadata": {
  "accelerator": "GPU",
  "colab": {
   "provenance": []
  },
  "gpuClass": "standard",
  "kernelspec": {
   "display_name": "Python 3 (ipykernel)",
   "language": "python",
   "name": "python3"
  },
  "language_info": {
   "codemirror_mode": {
    "name": "ipython",
    "version": 3
   },
   "file_extension": ".py",
   "mimetype": "text/x-python",
   "name": "python",
   "nbconvert_exporter": "python",
   "pygments_lexer": "ipython3",
   "version": "3.8.10"
  }
 },
 "nbformat": 4,
 "nbformat_minor": 1
}
