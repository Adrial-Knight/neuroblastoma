{
 "cells": [
  {
   "cell_type": "markdown",
   "metadata": {
    "id": "kpjnQuZuKhxg"
   },
   "source": [
    "# Neuroblastoma"
   ]
  },
  {
   "cell_type": "markdown",
   "metadata": {
    "id": "aBP1H2nAQfaN"
   },
   "source": [
    "## Imports python"
   ]
  },
  {
   "cell_type": "code",
   "execution_count": 144,
   "metadata": {
    "id": "ZoUVKA9APZEZ"
   },
   "outputs": [],
   "source": [
    "import torch\n",
    "import torchvision.transforms as transforms\n",
    "import torchvision.datasets as datasets\n",
    "import torch.optim as optim\n",
    "import torchmetrics.classification as classification\n",
    "import copy\n",
    "import matplotlib.pyplot as plt\n",
    "import numpy as np\n",
    "import json\n",
    "import os\n",
    "\n",
    "from torch import nn"
   ]
  },
  {
   "cell_type": "markdown",
   "metadata": {
    "id": "onj806KVjvox"
   },
   "source": [
    "\n",
    "## Vérification GPU"
   ]
  },
  {
   "cell_type": "code",
   "execution_count": 145,
   "metadata": {
    "colab": {
     "base_uri": "https://localhost:8080/"
    },
    "id": "QZ3NVkxIjsXp",
    "outputId": "29f6272a-ff07-4226-b37e-5ecb9cf83e3c"
   },
   "outputs": [
    {
     "name": "stdout",
     "output_type": "stream",
     "text": [
      "Using cpu device\n"
     ]
    }
   ],
   "source": [
    "device = \"cuda\" if torch.cuda.is_available() else \"cpu\"\n",
    "print(f\"Using {device} device\")"
   ]
  },
  {
   "cell_type": "markdown",
   "metadata": {
    "id": "k2hQ_2kYRcg9"
   },
   "source": [
    "## Chargement des datasets et preprocessing"
   ]
  },
  {
   "cell_type": "code",
   "execution_count": 146,
   "metadata": {
    "id": "T9b76e0sRieL"
   },
   "outputs": [],
   "source": [
    "# root_dir  = \"../database/224x224_split_BA\"\n",
    "root_dir  = \"../database/db_mat_224_FA\"\n",
    "train_dir = \"train/\"\n",
    "# valid_dir = \"validation/\"\n",
    "valid_dir = \"test/\"\n",
    "test_dir  = \"test/\"\n",
    "\n",
    "transform = transforms.Compose([\n",
    "    transforms.ToTensor(),\n",
    "    # transforms.Normalize((0.644193498371542, 0.5645996565889991, 0.7588836765196458), (0.21690568815789038, 0.2163005157370828, 0.13590056909053988))\n",
    "    transforms.Normalize((0.6675633854729178, 0.5748515449722628, 0.7695707113605876), (0.21134008037102184, 0.2146980755715314, 0.1345160446951044))\n",
    "])\n",
    "\n",
    "# Chargement des données\n",
    "train_dataset = datasets.ImageFolder(f\"{root_dir}/{train_dir}\", transform)\n",
    "valid_dataset = datasets.ImageFolder(f\"{root_dir}/{valid_dir}\", transform)\n",
    "test_dataset  = datasets.ImageFolder(f\"{root_dir}/{test_dir}\",  transform)"
   ]
  },
  {
   "cell_type": "markdown",
   "metadata": {
    "id": "QH6iEdB-cl1h"
   },
   "source": [
    "## Modèle"
   ]
  },
  {
   "cell_type": "code",
   "execution_count": 147,
   "metadata": {
    "colab": {
     "base_uri": "https://localhost:8080/"
    },
    "id": "6TG_LVwDcnlj",
    "outputId": "b587ce8d-19a1-41c9-e621-2bac39ea639b"
   },
   "outputs": [],
   "source": [
    "class Net(nn.Module):\n",
    "    def __init__(self):\n",
    "        super().__init__()\n",
    "        self.cnn = nn.Sequential(\n",
    "            nn.Conv2d(in_channels=3, out_channels=32, kernel_size=(3,3)),\n",
    "            nn.LeakyReLU(),\n",
    "            nn.MaxPool2d((2,2)),\n",
    "            nn.Conv2d(in_channels=32, out_channels=32, kernel_size=(3,3)),\n",
    "            nn.LeakyReLU(),\n",
    "            nn.MaxPool2d((2,2)),\n",
    "            nn.Conv2d(in_channels=32, out_channels=64, kernel_size=(3,3)),\n",
    "            nn.LeakyReLU(),\n",
    "            nn.MaxPool2d((2,2)),\n",
    "            nn.Conv2d(in_channels=64, out_channels=64, kernel_size=(3,3)),\n",
    "            nn.LeakyReLU(),\n",
    "            nn.MaxPool2d((2,2)),\n",
    "            nn.Flatten()\n",
    "        )\n",
    "        self.nn = nn.Sequential(\n",
    "            nn.Linear(9216, 128),\n",
    "            nn.ReLU(),\n",
    "            nn.Dropout(0.3),\n",
    "            nn.Linear(128, 1),\n",
    "            nn.Sigmoid()\n",
    "        )\n",
    "    \n",
    "    def forward(self, x):\n",
    "        a = self.cnn(x)\n",
    "        b = self.nn(a)\n",
    "        return b"
   ]
  },
  {
   "cell_type": "markdown",
   "metadata": {
    "id": "T_INuU9dn_pc"
   },
   "source": [
    "## Entraînement"
   ]
  },
  {
   "cell_type": "code",
   "execution_count": 148,
   "metadata": {
    "id": "dq_b2EbYm5DM"
   },
   "outputs": [],
   "source": [
    "batch_size = 32\n",
    "lr = 1e-5\n",
    "epochs = 1\n",
    "\n",
    "model = Net().to(device)\n",
    "\n",
    "optimizer = optim.Adam(model.parameters(), lr, betas=(0.9, 0.999))\n",
    "criterion = nn.BCELoss()\n",
    "accuracy  = classification.BinaryAccuracy().to(device)\n",
    "\n",
    "train_loader = torch.utils.data.DataLoader(train_dataset, batch_size, shuffle=True)\n",
    "valid_loader = torch.utils.data.DataLoader(valid_dataset, batch_size, shuffle=False)\n",
    "test_loader  = torch.utils.data.DataLoader(test_dataset,  batch_size, shuffle=False)"
   ]
  },
  {
   "cell_type": "code",
   "execution_count": 149,
   "metadata": {
    "colab": {
     "base_uri": "https://localhost:8080/"
    },
    "id": "ck2642AT19hG",
    "outputId": "08485706-3da3-4523-897e-ad36043acb5b",
    "scrolled": true
   },
   "outputs": [
    {
     "name": "stdout",
     "output_type": "stream",
     "text": [
      "Epoch  0: Train=(0.695, 48.31%) | Valid=(0.700, 39.47%)\n",
      "Epoch  1: Train=(0.579, 74.45%) | Valid=(0.759, 61.90%)\n",
      "Best model: Loss=0.759 | Acc=0.619\n"
     ]
    }
   ],
   "source": [
    "def train_model(model, loader, criterion, accuracy, epoch:int=0):\n",
    "    loss, accu = np.zeros((len(loader))), np.zeros((len(loader)))\n",
    "    accuracy.reset()\n",
    "    model.train()\n",
    "    for b, (inputs, labels) in enumerate(loader):\n",
    "        (inputs, labels) = (inputs.to(device), labels.to(device))\n",
    "        labels  = labels.unsqueeze(1).to(torch.float32)\n",
    "        outputs = model(inputs)\n",
    "        cr_loss = criterion(outputs, labels)\n",
    "\n",
    "        optimizer.zero_grad()\n",
    "        cr_loss.backward()\n",
    "        optimizer.step()\n",
    "\n",
    "        loss[b] = cr_loss.item()\n",
    "        accu[b] = accuracy(outputs, labels).item()\n",
    "    mean_loss = np.mean(loss)\n",
    "    mean_accu = np.mean(accu)\n",
    "    return mean_loss, loss, mean_accu, accu\n",
    "\n",
    "\n",
    "def eval_model(model, loader, criterion, accuracy, epoch:int=0):\n",
    "    loss, accu = np.zeros((len(loader))), np.zeros((len(loader)))\n",
    "    accuracy.reset()\n",
    "    model.eval()\n",
    "    with torch.no_grad():    \n",
    "        for b, (inputs, labels) in enumerate(loader):\n",
    "            (inputs, labels) = (inputs.to(device), labels.to(device))\n",
    "            labels  = labels.unsqueeze(1).to(torch.float32)\n",
    "            outputs = model(inputs)\n",
    "\n",
    "            cr_loss = criterion(outputs, labels)\n",
    "            loss[b] = cr_loss.item()\n",
    "            accu[b] = accuracy(outputs, labels).item()\n",
    "    mean_loss = np.mean(loss)\n",
    "    mean_accu = np.mean(accu)\n",
    "    return mean_loss, loss, mean_accu, accu\n",
    "\n",
    "def print_H_at_epoch(H, e:int=0):\n",
    "    print(f\"Epoch {e:3d}: Train=({H['train']['m_loss'][e]:.3f}, {H['train']['m_accu'][e]:.2%})\", end=\" | \")\n",
    "    print(              f\"Valid=({H['valid']['m_loss'][e]:.3f}, {H['valid']['m_accu'][e]:.2%})\")\n",
    "    \n",
    "# Historic\n",
    "H = {\n",
    "    \"train\": {\"loss\":   np.zeros((epochs+1, len(train_loader))),\n",
    "              \"accu\":   np.zeros((epochs+1, len(train_loader))),\n",
    "              \"m_loss\": np.zeros((epochs+1)),\n",
    "              \"m_accu\": np.zeros((epochs+1))},\n",
    "    \"valid\": {\"loss\":   np.zeros((epochs+1, len(valid_loader))),\n",
    "              \"accu\":   np.zeros((epochs+1, len(valid_loader))),\n",
    "              \"m_loss\": np.zeros((epochs+1)),\n",
    "              \"m_accu\": np.zeros((epochs+1))}\n",
    "}\n",
    "\n",
    "(H[\"train\"][\"m_loss\"][0], H[\"train\"][\"loss\"][0, :],\n",
    " H[\"train\"][\"m_accu\"][0], H[\"train\"][\"accu\"][0, :]) = eval_model(model, train_loader, criterion, accuracy, epoch=0)\n",
    "(H[\"valid\"][\"m_loss\"][0], H[\"valid\"][\"loss\"][0, :],\n",
    " H[\"valid\"][\"m_accu\"][0], H[\"valid\"][\"accu\"][0, :]) = eval_model(model, valid_loader, criterion, accuracy, epoch=0)\n",
    "\n",
    "print_H_at_epoch(H, 0)\n",
    "best_valid_accu = H[\"valid\"][\"m_accu\"][0]\n",
    "best_model = copy.deepcopy(model)\n",
    "\n",
    "for e in range(1, epochs+1):\n",
    "    (H[\"train\"][\"m_loss\"][e], H[\"train\"][\"loss\"][e, :],\n",
    "     H[\"train\"][\"m_accu\"][e], H[\"train\"][\"accu\"][e, :]) = train_model(model, train_loader, criterion, accuracy, e)\n",
    "    \n",
    "    (H[\"valid\"][\"m_loss\"][e], H[\"valid\"][\"loss\"][e, :],\n",
    "     H[\"valid\"][\"m_accu\"][e], H[\"valid\"][\"accu\"][e, :]) = eval_model(model, valid_loader, criterion, accuracy, e)\n",
    "\n",
    "    print_H_at_epoch(H, e)\n",
    "    if H[\"valid\"][\"m_accu\"][e] > best_valid_accu:\n",
    "        best_valid_accu = H[\"valid\"][\"m_accu\"][e]\n",
    "        best_model = copy.deepcopy(model)\n",
    "\n",
    "(mean_loss, loss, mean_accu, accu) = eval_model(best_model, test_loader, criterion, accuracy)\n",
    "print(f\"Best model: ({mean_loss:.3f}, {mean_accu:.2%})\")"
   ]
  },
  {
   "cell_type": "markdown",
   "metadata": {
    "id": "RV4PbniAQgvE"
   },
   "source": [
    "## Visualisation des courbes d'apprentissage"
   ]
  },
  {
   "cell_type": "code",
   "execution_count": 151,
   "metadata": {
    "id": "IXnhGotUOQeT"
   },
   "outputs": [
    {
     "data": {
      "image/png": "[encoded data removed]",
      "text/plain": [
       "<Figure size 600x300 with 1 Axes>"
      ]
     },
     "metadata": {},
     "output_type": "display_data"
    },
    {
     "data": {
      "image/png": "[encoded data removed]",
      "text/plain": [
       "<Figure size 600x300 with 1 Axes>"
      ]
     },
     "metadata": {},
     "output_type": "display_data"
    }
   ],
   "source": [
    "os.makedirs(\"backup\", exist_ok=True)\n",
    "backup_folder = \"backup/new\"\n",
    "os.makedirs(backup_folder, exist_ok=True)\n",
    "\n",
    "def plot_metric(H, max_epoch:int, metric:str=\"accu\"):\n",
    "    fig = plt.figure(figsize=(6, 3))\n",
    "\n",
    "    cmap = plt.get_cmap(\"tab10\")\n",
    "    colors = [cmap(1), cmap(0)]\n",
    "    xline = np.arange(max_epoch+1)\n",
    "    handles = []\n",
    "    labels = [\"valid\", \"train\"]\n",
    "\n",
    "    for c, dataset in zip(colors, labels):\n",
    "        std  = np.sqrt(np.var(H[dataset][metric], axis=1))[:max_epoch+1]\n",
    "        mean = H[dataset][f\"m_{metric}\"][:max_epoch+1]\n",
    "        plt.fill_between(xline, mean-std, mean+std, linewidth=0, color=c, alpha=0.4)\n",
    "        line, = plt.plot(xline, mean, color=c)\n",
    "        handles += [line]\n",
    "\n",
    "    plt.xlabel(\"epoch\")\n",
    "    if metric == \"accu\":\n",
    "        plt.ylim([min(min(H[\"train\"][\"m_accu\"]), min(H[\"valid\"][\"m_accu\"])), 1])\n",
    "    elif metric == \"loss\":\n",
    "        plt.ylim([0, max(max(H[\"train\"][f\"m_loss\"]), max(H[\"valid\"][f\"m_loss\"]))])\n",
    "    plt.legend(handles[::-1], labels[::-1])\n",
    "    plt.grid()\n",
    "    \n",
    "    \n",
    "plot_metric(H, max_epoch=epochs, metric=\"accu\")\n",
    "plt.savefig(f\"{backup_folder}/accu.pdf\", bbox_inches=\"tight\")\n",
    "plot_metric(H, max_epoch=epochs, metric=\"loss\")\n",
    "plt.savefig(f\"{backup_folder}/loss.pdf\", bbox_inches=\"tight\")"
   ]
  },
  {
   "cell_type": "markdown",
   "metadata": {},
   "source": [
    "## Sauvegarde"
   ]
  },
  {
   "cell_type": "code",
   "execution_count": 152,
   "metadata": {},
   "outputs": [],
   "source": [
    "torch.save(model.state_dict(), f\"{backup_folder}/model.pth\")\n",
    "\n",
    "backup = {}\n",
    "backup[\"loader\"] = {\"train\": len(train_loader), \"valid\": len(valid_loader), \"test\": len(test_loader)}\n",
    "backup[\"opti\"]   = {\"optimizer\": \"Adam\", \"lr\": lr, \"batch_size\": batch_size, \"epochs\": epochs}\n",
    "backup[\"train_loss\"] = H[\"train\"][\"m_loss\"].tolist()\n",
    "backup[\"train_accu\"] = H[\"train\"][\"m_accu\"].tolist()\n",
    "backup[\"valid_loss\"] = H[\"valid\"][\"m_loss\"].tolist()\n",
    "backup[\"valid_accu\"] = H[\"valid\"][\"m_accu\"].tolist()\n",
    "backup[\"train_loss_batch\"] = H[\"train\"][\"loss\"].tolist()\n",
    "backup[\"train_accu_batch\"] = H[\"train\"][\"accu\"].tolist()\n",
    "backup[\"valid_loss_batch\"] = H[\"valid\"][\"loss\"].tolist()\n",
    "backup[\"valid_accu_batch\"] = H[\"valid\"][\"accu\"].tolist()\n",
    "\n",
    "with open(f\"{backup_folder}/backup.json\", \"w\") as fd:\n",
    "    json.dump(backup, fd)"
   ]
  },
  {
   "cell_type": "code",
   "execution_count": null,
   "metadata": {},
   "outputs": [],
   "source": []
  }
 ],
 "metadata": {
  "accelerator": "GPU",
  "colab": {
   "provenance": []
  },
  "gpuClass": "standard",
  "kernelspec": {
   "display_name": "Python 3 (ipykernel)",
   "language": "python",
   "name": "python3"
  },
  "language_info": {
   "codemirror_mode": {
    "name": "ipython",
    "version": 3
   },
   "file_extension": ".py",
   "mimetype": "text/x-python",
   "name": "python",
   "nbconvert_exporter": "python",
   "pygments_lexer": "ipython3",
   "version": "3.8.10"
  }
 },
 "nbformat": 4,
 "nbformat_minor": 1
}
