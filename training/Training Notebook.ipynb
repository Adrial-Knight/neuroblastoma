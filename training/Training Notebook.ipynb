{
 "cells": [
  {
   "cell_type": "markdown",
   "metadata": {
    "id": "kpjnQuZuKhxg"
   },
   "source": [
    "# Neuroblastoma"
   ]
  },
  {
   "cell_type": "markdown",
   "metadata": {
    "id": "aBP1H2nAQfaN"
   },
   "source": [
    "## Imports python"
   ]
  },
  {
   "cell_type": "code",
   "execution_count": 1,
   "metadata": {
    "id": "ZoUVKA9APZEZ"
   },
   "outputs": [
    {
     "name": "stderr",
     "output_type": "stream",
     "text": [
      "/home/pierre/.local/lib/python3.8/site-packages/tqdm/auto.py:22: TqdmWarning: IProgress not found. Please update jupyter and ipywidgets. See https://ipywidgets.readthedocs.io/en/stable/user_install.html\n",
      "  from .autonotebook import tqdm as notebook_tqdm\n"
     ]
    }
   ],
   "source": [
    "import torch\n",
    "import torchvision.transforms as transforms\n",
    "import torchvision.datasets as datasets\n",
    "import torch.optim as optim\n",
    "import torchmetrics.classification as classification\n",
    "import copy\n",
    "import matplotlib.pyplot as plt\n",
    "import numpy as np\n",
    "\n",
    "from torch import nn\n",
    "from tqdm import tqdm\n",
    "\n",
    "UP_LINE  = \"\\033[A\"\n",
    "DEL_LINE = \"\\033[K\""
   ]
  },
  {
   "cell_type": "markdown",
   "metadata": {
    "id": "onj806KVjvox"
   },
   "source": [
    "\n",
    "## Vérification GPU"
   ]
  },
  {
   "cell_type": "code",
   "execution_count": 2,
   "metadata": {
    "colab": {
     "base_uri": "https://localhost:8080/"
    },
    "id": "QZ3NVkxIjsXp",
    "outputId": "29f6272a-ff07-4226-b37e-5ecb9cf83e3c"
   },
   "outputs": [
    {
     "name": "stdout",
     "output_type": "stream",
     "text": [
      "Using cpu device\n"
     ]
    }
   ],
   "source": [
    "device = \"cuda\" if torch.cuda.is_available() else \"cpu\"\n",
    "print(f\"Using {device} device\")"
   ]
  },
  {
   "cell_type": "markdown",
   "metadata": {
    "id": "k2hQ_2kYRcg9"
   },
   "source": [
    "## Chargement des datasets et preprocessing"
   ]
  },
  {
   "cell_type": "code",
   "execution_count": 3,
   "metadata": {
    "id": "T9b76e0sRieL"
   },
   "outputs": [],
   "source": [
    "# root_dir  = \"../database/224x224_split_BA\"\n",
    "root_dir  = \"../database/db_mat_224_FA\"\n",
    "train_dir = \"train/\"\n",
    "# valid_dir = \"validation/\"\n",
    "valid_dir = \"test/\"\n",
    "test_dir  = \"test/\"\n",
    "\n",
    "transform = transforms.Compose([\n",
    "    transforms.ToTensor(),\n",
    "    # transforms.Normalize((0.644193498371542, 0.5645996565889991, 0.7588836765196458), (0.21690568815789038, 0.2163005157370828, 0.13590056909053988))\n",
    "    transforms.Normalize((0.6675633854729178, 0.5748515449722628, 0.7695707113605876), (0.21134008037102184, 0.2146980755715314, 0.1345160446951044))\n",
    "])\n",
    "\n",
    "# Chargement des données\n",
    "train_dataset = datasets.ImageFolder(f\"{root_dir}/{train_dir}\", transform)\n",
    "valid_dataset = datasets.ImageFolder(f\"{root_dir}/{valid_dir}\", transform)\n",
    "test_dataset  = datasets.ImageFolder(f\"{root_dir}/{test_dir}\",  transform)"
   ]
  },
  {
   "cell_type": "markdown",
   "metadata": {
    "id": "QH6iEdB-cl1h"
   },
   "source": [
    "## Modèle"
   ]
  },
  {
   "cell_type": "code",
   "execution_count": 4,
   "metadata": {
    "colab": {
     "base_uri": "https://localhost:8080/"
    },
    "id": "6TG_LVwDcnlj",
    "outputId": "b587ce8d-19a1-41c9-e621-2bac39ea639b"
   },
   "outputs": [],
   "source": [
    "class Net(nn.Module):\n",
    "    def __init__(self):\n",
    "        super().__init__()\n",
    "        self.cnn = nn.Sequential(\n",
    "            nn.Conv2d(in_channels=3, out_channels=32, kernel_size=(3,3)),\n",
    "            nn.LeakyReLU(),\n",
    "            nn.MaxPool2d((2,2)),\n",
    "            nn.Conv2d(in_channels=32, out_channels=32, kernel_size=(3,3)),\n",
    "            nn.LeakyReLU(),\n",
    "            nn.MaxPool2d((2,2)),\n",
    "            nn.Conv2d(in_channels=32, out_channels=64, kernel_size=(3,3)),\n",
    "            nn.LeakyReLU(),\n",
    "            nn.MaxPool2d((2,2)),\n",
    "            nn.Conv2d(in_channels=64, out_channels=64, kernel_size=(3,3)),\n",
    "            nn.LeakyReLU(),\n",
    "            nn.MaxPool2d((2,2)),\n",
    "            nn.Flatten()\n",
    "        )\n",
    "        self.nn = nn.Sequential(\n",
    "            nn.Linear(9216, 128),\n",
    "            nn.ReLU(),\n",
    "            nn.Dropout(0.3),\n",
    "            nn.Linear(128, 1),\n",
    "            nn.Sigmoid()\n",
    "        )\n",
    "    \n",
    "    def forward(self, x):\n",
    "        a = self.cnn(x)\n",
    "        b = self.nn(a)\n",
    "        return b"
   ]
  },
  {
   "cell_type": "markdown",
   "metadata": {
    "id": "T_INuU9dn_pc"
   },
   "source": [
    "## Entraînement"
   ]
  },
  {
   "cell_type": "code",
   "execution_count": 8,
   "metadata": {
    "id": "dq_b2EbYm5DM"
   },
   "outputs": [],
   "source": [
    "batch_size = 32\n",
    "lr = 1e-5\n",
    "epochs = 20\n",
    "\n",
    "model = Net().to(device)\n",
    "\n",
    "optimizer = optim.Adam(model.parameters(), lr, betas=(0.9, 0.999))\n",
    "criterion = nn.BCELoss()\n",
    "accuracy = classification.BinaryAccuracy().to(device)\n",
    "\n",
    "train_loader = torch.utils.data.DataLoader(train_dataset, batch_size, shuffle=True)\n",
    "valid_loader = torch.utils.data.DataLoader(valid_dataset, batch_size, shuffle=False)\n",
    "test_loader  = torch.utils.data.DataLoader(test_dataset,  batch_size, shuffle=False)"
   ]
  },
  {
   "cell_type": "code",
   "execution_count": 9,
   "metadata": {
    "colab": {
     "base_uri": "https://localhost:8080/"
    },
    "id": "ck2642AT19hG",
    "outputId": "08485706-3da3-4523-897e-ad36043acb5b"
   },
   "outputs": [
    {
     "name": "stderr",
     "output_type": "stream",
     "text": [
      "                                                                                \r"
     ]
    },
    {
     "name": "stdout",
     "output_type": "stream",
     "text": [
      "\u001b[A\u001b[KEpoch  0: Valid Loss=0.692 | Valid Acc=0.64\n"
     ]
    },
    {
     "name": "stderr",
     "output_type": "stream",
     "text": [
      "                                                                                \r"
     ]
    },
    {
     "name": "stdout",
     "output_type": "stream",
     "text": [
      "Epoch  1: Valid Loss=0.840 | Valid Acc=0.54 | Train Loss=0.568 | Train Acc=0.76\n"
     ]
    },
    {
     "name": "stderr",
     "output_type": "stream",
     "text": [
      "                                                                                \r"
     ]
    },
    {
     "name": "stdout",
     "output_type": "stream",
     "text": [
      "Epoch  2: Valid Loss=0.718 | Valid Acc=0.65 | Train Loss=0.349 | Train Acc=0.86\n"
     ]
    },
    {
     "name": "stderr",
     "output_type": "stream",
     "text": [
      "                                                                                \r"
     ]
    },
    {
     "name": "stdout",
     "output_type": "stream",
     "text": [
      "Epoch  3: Valid Loss=0.636 | Valid Acc=0.64 | Train Loss=0.265 | Train Acc=0.87\n"
     ]
    },
    {
     "name": "stderr",
     "output_type": "stream",
     "text": [
      "                                                                                \r"
     ]
    },
    {
     "name": "stdout",
     "output_type": "stream",
     "text": [
      "Epoch  4: Valid Loss=0.609 | Valid Acc=0.65 | Train Loss=0.224 | Train Acc=0.89\n"
     ]
    },
    {
     "name": "stderr",
     "output_type": "stream",
     "text": [
      "                                                                                \r"
     ]
    },
    {
     "name": "stdout",
     "output_type": "stream",
     "text": [
      "Epoch  5: Valid Loss=0.509 | Valid Acc=0.69 | Train Loss=0.200 | Train Acc=0.90\n"
     ]
    },
    {
     "name": "stderr",
     "output_type": "stream",
     "text": [
      "                                                                                \r"
     ]
    },
    {
     "name": "stdout",
     "output_type": "stream",
     "text": [
      "Epoch  6: Valid Loss=0.492 | Valid Acc=0.70 | Train Loss=0.176 | Train Acc=0.91\n"
     ]
    },
    {
     "name": "stderr",
     "output_type": "stream",
     "text": [
      "                                                                                \r"
     ]
    },
    {
     "name": "stdout",
     "output_type": "stream",
     "text": [
      "Epoch  7: Valid Loss=0.444 | Valid Acc=0.72 | Train Loss=0.158 | Train Acc=0.93\n"
     ]
    },
    {
     "name": "stderr",
     "output_type": "stream",
     "text": [
      "                                                                                \r"
     ]
    },
    {
     "name": "stdout",
     "output_type": "stream",
     "text": [
      "Epoch  8: Valid Loss=0.536 | Valid Acc=0.70 | Train Loss=0.142 | Train Acc=0.94\n"
     ]
    },
    {
     "name": "stderr",
     "output_type": "stream",
     "text": [
      "                                                                                \r"
     ]
    },
    {
     "name": "stdout",
     "output_type": "stream",
     "text": [
      "Epoch  9: Valid Loss=0.362 | Valid Acc=0.79 | Train Loss=0.123 | Train Acc=0.95\n"
     ]
    },
    {
     "name": "stderr",
     "output_type": "stream",
     "text": [
      "                                                                                \r"
     ]
    },
    {
     "name": "stdout",
     "output_type": "stream",
     "text": [
      "Epoch 10: Valid Loss=0.338 | Valid Acc=0.80 | Train Loss=0.113 | Train Acc=0.96\n"
     ]
    },
    {
     "name": "stderr",
     "output_type": "stream",
     "text": [
      "                                                                                \r"
     ]
    },
    {
     "name": "stdout",
     "output_type": "stream",
     "text": [
      "Epoch 11: Valid Loss=0.420 | Valid Acc=0.77 | Train Loss=0.102 | Train Acc=0.97\n"
     ]
    },
    {
     "name": "stderr",
     "output_type": "stream",
     "text": [
      "                                                                                \r"
     ]
    },
    {
     "name": "stdout",
     "output_type": "stream",
     "text": [
      "Epoch 12: Valid Loss=0.358 | Valid Acc=0.79 | Train Loss=0.092 | Train Acc=0.97\n"
     ]
    },
    {
     "name": "stderr",
     "output_type": "stream",
     "text": [
      "                                                                                \r"
     ]
    },
    {
     "name": "stdout",
     "output_type": "stream",
     "text": [
      "Epoch 13: Valid Loss=0.298 | Valid Acc=0.84 | Train Loss=0.085 | Train Acc=0.98\n"
     ]
    },
    {
     "name": "stderr",
     "output_type": "stream",
     "text": [
      "                                                                                \r"
     ]
    },
    {
     "name": "stdout",
     "output_type": "stream",
     "text": [
      "Epoch 14: Valid Loss=0.310 | Valid Acc=0.83 | Train Loss=0.079 | Train Acc=0.98\n"
     ]
    },
    {
     "name": "stderr",
     "output_type": "stream",
     "text": [
      "                                                                                \r"
     ]
    },
    {
     "name": "stdout",
     "output_type": "stream",
     "text": [
      "Epoch 15: Valid Loss=0.306 | Valid Acc=0.83 | Train Loss=0.073 | Train Acc=0.98\n"
     ]
    },
    {
     "name": "stderr",
     "output_type": "stream",
     "text": [
      "                                                                                \r"
     ]
    },
    {
     "name": "stdout",
     "output_type": "stream",
     "text": [
      "Epoch 16: Valid Loss=0.379 | Valid Acc=0.80 | Train Loss=0.066 | Train Acc=0.98\n"
     ]
    },
    {
     "name": "stderr",
     "output_type": "stream",
     "text": [
      "                                                                                \r"
     ]
    },
    {
     "name": "stdout",
     "output_type": "stream",
     "text": [
      "Epoch 17: Valid Loss=0.265 | Valid Acc=0.86 | Train Loss=0.065 | Train Acc=0.98\n"
     ]
    },
    {
     "name": "stderr",
     "output_type": "stream",
     "text": [
      "                                                                                \r"
     ]
    },
    {
     "name": "stdout",
     "output_type": "stream",
     "text": [
      "Epoch 18: Valid Loss=0.435 | Valid Acc=0.78 | Train Loss=0.059 | Train Acc=0.98\n"
     ]
    },
    {
     "name": "stderr",
     "output_type": "stream",
     "text": [
      "                                                                                \r"
     ]
    },
    {
     "name": "stdout",
     "output_type": "stream",
     "text": [
      "Epoch 19: Valid Loss=0.278 | Valid Acc=0.86 | Train Loss=0.054 | Train Acc=0.99\n"
     ]
    },
    {
     "name": "stderr",
     "output_type": "stream",
     "text": [
      "                                                                                \r"
     ]
    },
    {
     "name": "stdout",
     "output_type": "stream",
     "text": [
      "Epoch 20: Valid Loss=0.181 | Valid Acc=0.92 | Train Loss=0.054 | Train Acc=0.98\n"
     ]
    },
    {
     "name": "stderr",
     "output_type": "stream",
     "text": [
      "                                                                                "
     ]
    },
    {
     "name": "stdout",
     "output_type": "stream",
     "text": [
      "Best model: Loss=0.181 | Acc=0.918\n"
     ]
    },
    {
     "name": "stderr",
     "output_type": "stream",
     "text": [
      "\r"
     ]
    }
   ],
   "source": [
    "def train_model(model, loader, criterion, accuracy, epoch:int=0):\n",
    "    loss = 0.0\n",
    "    accuracy.reset()\n",
    "    with tqdm(loader, unit=\"batch\", leave=False) as train_epoch:\n",
    "        train_epoch.set_description(f\"Epoch {epoch:2d} (train)\")\n",
    "        model.train()\n",
    "        for (inputs, labels) in train_epoch:\n",
    "            (inputs, labels) = (inputs.to(device), labels.to(device))\n",
    "            labels  = labels.unsqueeze(1).to(torch.float32)\n",
    "            outputs = model(inputs)\n",
    "            cr_loss = criterion(outputs, labels)\n",
    "\n",
    "            optimizer.zero_grad()\n",
    "            cr_loss.backward()\n",
    "            optimizer.step()\n",
    "\n",
    "            loss+=cr_loss.item()\n",
    "            accuracy(outputs, labels)\n",
    "\n",
    "    loss = loss / len(loader)\n",
    "    accu = accuracy.compute().item()\n",
    "    return loss, accu\n",
    "\n",
    "\n",
    "def eval_model(model, loader, criterion, accuracy, epoch:int=0):\n",
    "    loss = 0.0\n",
    "    accuracy.reset()\n",
    "    with torch.no_grad():    \n",
    "        with tqdm(valid_loader, unit=\"batch\", leave=False) as eval_epoch:\n",
    "            eval_epoch.set_description(f\"Epoch {epoch:2d} (eval)\")\n",
    "            model.eval()\n",
    "            for (inputs, labels) in eval_epoch:\n",
    "                (inputs, labels) = (inputs.to(device), labels.to(device))\n",
    "                labels  = labels.unsqueeze(1).to(torch.float32)\n",
    "                outputs = model(inputs)\n",
    "                cr_loss = criterion(outputs, labels)\n",
    "\n",
    "                loss+=cr_loss.item()\n",
    "                accuracy(outputs, labels)\n",
    "    loss = loss / len(loader)\n",
    "    accu = accuracy.compute().item()\n",
    "    return loss, accu\n",
    "\n",
    "# Historic\n",
    "H = {\n",
    "    \"train_loss\": np.zeros((epochs+1), dtype=np.float32),\n",
    "    \"train_accu\": np.zeros((epochs+1), dtype=np.float32),\n",
    "    \"valid_loss\": np.zeros((epochs+1), dtype=np.float32),\n",
    "    \"valid_accu\": np.zeros((epochs+1), dtype=np.float32)\n",
    "}\n",
    "H[\"train_loss\"][0] = None\n",
    "H[\"train_accu\"][0] = None\n",
    "\n",
    "(valid_loss, valid_accu) =  eval_model(model, valid_loader, criterion, accuracy, epoch=0)\n",
    "H[\"valid_loss\"][0] = valid_loss\n",
    "H[\"valid_accu\"][0] = valid_accu\n",
    "best_valid_accu = valid_accu\n",
    "best_model = copy.deepcopy(model)\n",
    "print(f\"{UP_LINE}{DEL_LINE}Epoch  0: Valid Loss={H['valid_loss'][0]:.3f} | Valid Acc={H['valid_accu'][0]:.2f}\")\n",
    "\n",
    "for e in range(1, epochs+1):\n",
    "    (train_loss, train_accu) = train_model(model, train_loader, criterion, accuracy, e)\n",
    "    (valid_loss, valid_accu) =  eval_model(model, valid_loader, criterion, accuracy, e)\n",
    "\n",
    "    if valid_accu > best_valid_accu:\n",
    "        best_valid_accu = valid_accu\n",
    "        best_model = copy.deepcopy(model)\n",
    "    \n",
    "    H[\"train_loss\"][e] = train_loss\n",
    "    H[\"train_accu\"][e] = train_accu\n",
    "    H[\"valid_loss\"][e] = valid_loss\n",
    "    H[\"valid_accu\"][e] = valid_accu\n",
    "\n",
    "    print(f\"Epoch {e:2d}: Valid Loss={H['valid_loss'][e]:.3f} | Valid Acc={H['valid_accu'][e]:.2f} | Train Loss={H['train_loss'][e]:.3f} | Train Acc={H['train_accu'][e]:.2f}\")\n",
    "\n",
    "(test_loss, test_accu) = eval_model(best_model, test_loader, criterion, accuracy)\n",
    "print(f\"Best model: Loss={test_loss:.3f} | Acc={test_accu:.3f}\")"
   ]
  },
  {
   "cell_type": "markdown",
   "metadata": {
    "id": "RV4PbniAQgvE"
   },
   "source": [
    "## Visualisation des courbes d'apprentissage"
   ]
  },
  {
   "cell_type": "code",
   "execution_count": 33,
   "metadata": {
    "id": "IXnhGotUOQeT"
   },
   "outputs": [
    {
     "data": {
      "image/png": "[encoded data removed]",
      "text/plain": [
       "<Figure size 1200x900 with 4 Axes>"
      ]
     },
     "metadata": {},
     "output_type": "display_data"
    }
   ],
   "source": [
    "fig, axs = plt.subplots(nrows=2, ncols=2, figsize=(12, 9))\n",
    "axs = axs.flatten()\n",
    "\n",
    "for ax, (key, metric) in zip(axs, H.items()):\n",
    "    ax.plot(np.arange(len(metric)), metric)\n",
    "    ax.set_title(key.replace(\"_\", \" \"))\n",
    "    ax.grid()\n",
    "    \n",
    "import json\n",
    "plt.savefig(\"fig/db_mat_FA_1.svg\")\n",
    "for key, tab in H.items():\n",
    "    H[key] = tab.tolist()\n",
    "\n",
    "with open(\"fig/db_mat_FA_1.json\", \"w\") as fp:\n",
    "    json.dump(H, fp)"
   ]
  },
  {
   "cell_type": "code",
   "execution_count": null,
   "metadata": {
    "scrolled": true
   },
   "outputs": [],
   "source": []
  },
  {
   "cell_type": "code",
   "execution_count": null,
   "metadata": {},
   "outputs": [],
   "source": []
  }
 ],
 "metadata": {
  "accelerator": "GPU",
  "colab": {
   "provenance": []
  },
  "gpuClass": "standard",
  "kernelspec": {
   "display_name": "Python 3 (ipykernel)",
   "language": "python",
   "name": "python3"
  },
  "language_info": {
   "codemirror_mode": {
    "name": "ipython",
    "version": 3
   },
   "file_extension": ".py",
   "mimetype": "text/x-python",
   "name": "python",
   "nbconvert_exporter": "python",
   "pygments_lexer": "ipython3",
   "version": "3.8.10"
  }
 },
 "nbformat": 4,
 "nbformat_minor": 1
}
